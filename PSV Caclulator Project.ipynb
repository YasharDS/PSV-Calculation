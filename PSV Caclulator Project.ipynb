{
 "cells": [
  {
   "cell_type": "markdown",
   "metadata": {
    "id": "6vnRPZwfvU5D"
   },
   "source": [
    "# Introduction"
   ]
  },
  {
   "cell_type": "markdown",
   "metadata": {
    "id": "XQidHQOUMNFL"
   },
   "source": [
    "## Foreword\n"
   ]
  },
  {
   "cell_type": "markdown",
   "metadata": {
    "id": "xItS1zUEvU5C"
   },
   "source": [
    "The following work was done in order to implement the recognized practices within the oil and gas industry task of calculating the maximal flow discharge throught the PSV (Pressure Safety Valve).\n",
    "The script will include UI window with an option to export the calculated values to your desctop and deliver the excel list of the calculation done to the mentioned E-mail adress.\n",
    "\n",
    "Important: Due to technical obstacles met during representing the UI window display on colaboratory environment, please consider running the code on jupyter lab environment.\n",
    "\n"
   ]
  },
  {
   "cell_type": "markdown",
   "metadata": {
    "id": "1IorArtJvU5D"
   },
   "source": [
    "First, we will import the nessesary packages:"
   ]
  },
  {
   "cell_type": "code",
   "execution_count": 21,
   "metadata": {
    "executionInfo": {
     "elapsed": 270,
     "status": "ok",
     "timestamp": 1629104672800,
     "user": {
      "displayName": "Vitaliy Yashar",
      "photoUrl": "https://lh3.googleusercontent.com/a-/AOh14GidBALqHrcUEZaPPwv0p3n638dHsRae3KVRwEWJFQ=s64",
      "userId": "15259014568882346052"
     },
     "user_tz": -180
    },
    "id": "HIB-F5nuvU5E"
   },
   "outputs": [],
   "source": [
    "from tkinter import *\n",
    "import tkinter\n",
    "import tkinter.messagebox\n",
    "import pandas as pd\n",
    "import os\n",
    "from tkinter import ttk\n",
    "\n",
    "import email, smtplib, ssl\n",
    "from email import encoders\n",
    "from email.mime.base import MIMEBase\n",
    "from email.mime.multipart import MIMEMultipart\n",
    "from email.mime.text import MIMEText"
   ]
  },
  {
   "cell_type": "markdown",
   "metadata": {
    "id": "NI4Bhe89vU5I"
   },
   "source": [
    "The first step is about to create the main Tkinter window and define it's title\n",
    "\n",
    "\n"
   ]
  },
  {
   "cell_type": "code",
   "execution_count": 22,
   "metadata": {
    "colab": {
     "base_uri": "https://localhost:8080/",
     "height": 353
    },
    "executionInfo": {
     "elapsed": 263,
     "status": "error",
     "timestamp": 1629104676979,
     "user": {
      "displayName": "Vitaliy Yashar",
      "photoUrl": "https://lh3.googleusercontent.com/a-/AOh14GidBALqHrcUEZaPPwv0p3n638dHsRae3KVRwEWJFQ=s64",
      "userId": "15259014568882346052"
     },
     "user_tz": -180
    },
    "id": "zivW6RYlvU5I",
    "outputId": "aa322ee6-6718-471f-f7ec-2f713151bb96"
   },
   "outputs": [
    {
     "data": {
      "text/plain": [
       "''"
      ]
     },
     "execution_count": 22,
     "metadata": {},
     "output_type": "execute_result"
    }
   ],
   "source": [
    "window = tkinter.Tk()\n",
    "window.title(\"PSV Calculations\")"
   ]
  },
  {
   "cell_type": "markdown",
   "metadata": {
    "id": "7IPT06Q0vU5N"
   },
   "source": [
    "Next step, we will create two frames, in order to be able to move to different windows which represent different calculation scenarios"
   ]
  },
  {
   "cell_type": "code",
   "execution_count": 23,
   "metadata": {
    "colab": {
     "base_uri": "https://localhost:8080/",
     "height": 244
    },
    "executionInfo": {
     "elapsed": 345,
     "status": "error",
     "timestamp": 1629104691699,
     "user": {
      "displayName": "Vitaliy Yashar",
      "photoUrl": "https://lh3.googleusercontent.com/a-/AOh14GidBALqHrcUEZaPPwv0p3n638dHsRae3KVRwEWJFQ=s64",
      "userId": "15259014568882346052"
     },
     "user_tz": -180
    },
    "id": "tKE1xxQuvU5O",
    "outputId": "30b96bf9-bbf2-43a4-c41c-7bb6e35f3179"
   },
   "outputs": [],
   "source": [
    "notebook = ttk.Notebook(window)\n",
    "notebook.pack(pady=10, expand=True)\n",
    "\n",
    "frame1 = ttk.Frame(notebook)\n",
    "frame2 = ttk.Frame(notebook)\n",
    "\n",
    "frame1.pack(fill='both', expand=True)\n",
    "frame2.pack(fill='both', expand=True)\n",
    "\n",
    "# And add these frames to the notebook\n",
    "\n",
    "notebook.add(frame1, text='Fire Case Discharge')\n",
    "notebook.add(frame2, text='Thermal Expansion Dischare')"
   ]
  },
  {
   "cell_type": "markdown",
   "metadata": {
    "id": "Td3GU3ZBvU5n"
   },
   "source": [
    "# Defining Variables\n",
    "\n"
   ]
  },
  {
   "cell_type": "markdown",
   "metadata": {
    "id": "rPs0Fm1svU5p"
   },
   "source": [
    "In order to be able to read the values from the corresponding input lines within the UI window, we will define the needed variables."
   ]
  },
  {
   "cell_type": "code",
   "execution_count": 24,
   "metadata": {
    "colab": {
     "base_uri": "https://localhost:8080/",
     "height": 395
    },
    "executionInfo": {
     "elapsed": 255,
     "status": "error",
     "timestamp": 1629104698869,
     "user": {
      "displayName": "Vitaliy Yashar",
      "photoUrl": "https://lh3.googleusercontent.com/a-/AOh14GidBALqHrcUEZaPPwv0p3n638dHsRae3KVRwEWJFQ=s64",
      "userId": "15259014568882346052"
     },
     "user_tz": -180
    },
    "id": "J3nLGIfSvU5r",
    "outputId": "7b79d186-5c20-4ea7-cacd-2278091a92be"
   },
   "outputs": [],
   "source": [
    "av_var=tkinter.StringVar()\n",
    "SG_var=tkinter.StringVar()\n",
    "fi_var=tkinter.StringVar()\n",
    "c_var=tkinter.StringVar()\n",
    "PSV_var=tkinter.StringVar()\n",
    "E_mail_var=tkinter.StringVar()"
   ]
  },
  {
   "cell_type": "markdown",
   "metadata": {
    "id": "0nJsEGR0Iyk4"
   },
   "source": [
    "Please note, the following lists will be defined in order to store the different calculation sessions and further will be stored in appropriate order within the excel file."
   ]
  },
  {
   "cell_type": "code",
   "execution_count": 25,
   "metadata": {
    "executionInfo": {
     "elapsed": 267,
     "status": "ok",
     "timestamp": 1629104704692,
     "user": {
      "displayName": "Vitaliy Yashar",
      "photoUrl": "https://lh3.googleusercontent.com/a-/AOh14GidBALqHrcUEZaPPwv0p3n638dHsRae3KVRwEWJFQ=s64",
      "userId": "15259014568882346052"
     },
     "user_tz": -180
    },
    "id": "yIuNJXZzAm1W"
   },
   "outputs": [],
   "source": [
    "PSV_List=[]\n",
    "Flow_List=[]\n",
    "Units_List=[]"
   ]
  },
  {
   "cell_type": "markdown",
   "metadata": {
    "id": "gyrt4gVfIoJv"
   },
   "source": [
    "## The **calc** and **export** functions."
   ]
  },
  {
   "cell_type": "markdown",
   "metadata": {
    "id": "hWVZ3WlcvU5T"
   },
   "source": [
    "The **`calc`** function will include several lines of unit convertion alongside retrieving the variables from UI window. The unit convertion is with accordance to recognized engineering practices.\n",
    "\n",
    "Further the function will perform the next actions:\n",
    "\n",
    "*   Poping up a window delievering the calculated flow for this particular session\n",
    "\n",
    "*   Appending the PSV number, Calculation result and Units to the coresponding list with each calculation session (each Blue botton activation)\n",
    "\n",
    "*   Creating a **`data`** dictionary to store the values further imported to \"Exported PSV List.xlsx\" file on your desktop\n",
    "\n",
    "\n",
    "\n"
   ]
  },
  {
   "cell_type": "code",
   "execution_count": 26,
   "metadata": {
    "executionInfo": {
     "elapsed": 239,
     "status": "ok",
     "timestamp": 1629104708746,
     "user": {
      "displayName": "Vitaliy Yashar",
      "photoUrl": "https://lh3.googleusercontent.com/a-/AOh14GidBALqHrcUEZaPPwv0p3n638dHsRae3KVRwEWJFQ=s64",
      "userId": "15259014568882346052"
     },
     "user_tz": -180
    },
    "id": "ANAJMirTvU5U"
   },
   "outputs": [],
   "source": [
    "def calc():\n",
    "\n",
    "\n",
    "    #Retrieving the variables with tkinter.get method\n",
    "    av=av_1.get()\n",
    "    SG=SG_1.get()\n",
    "    fi=fi_1.get()\n",
    "    av_units=av_units_1.get()\n",
    "    c=c_1.get()\n",
    "    c_units=c_units_1.get()\n",
    "    units=units_1.get()\n",
    "    PSV=PSV_num_1.get()\n",
    "    E_mail=E_mail_1.get()\n",
    "    \n",
    "    \n",
    "   # Units convertion and calculating the q(FLOW)\n",
    "   \n",
    "    if av_units=='Kjoule/hr':\n",
    "        av_converted=float(av)*0.947817\n",
    "    if av_units==\"Kcal/hr\":\n",
    "        av_converted=float(av)*3.96567\n",
    "    if av_units==\"Btu/hr\":\n",
    "        av_converted=float(av)\n",
    "\n",
    "\n",
    "\n",
    "    if c_units=='Kjoule/KgK':\n",
    "        c_converted=float(c)*0.239\n",
    "    if c_units==\"Joule/KgK\":\n",
    "        c_converted=float(c)*0.000239\n",
    "    if c_units==\"Btu/lb F\":\n",
    "        c_converted=float(c)\n",
    "    if c_units==\"Kcal/KgK\":\n",
    "        c_converted=float(c)\n",
    "  \n",
    "\n",
    "\n",
    "    if units=='Lit/hr':\n",
    "        q=av_converted*float(fi)/500/float(SG)/c_converted*227.124\n",
    "    if units=='M3/hr':\n",
    "        q=av_converted*float(fi)/500/float(SG)/c_converted/264.17*60\n",
    "\n",
    "    if units=='CFM':\n",
    "        q=av_converted*float(fi)/500/float(SG)/c_converted/7.48\n",
    "    if units=='USGPM':\n",
    "        q=av_converted*float(fi)/500/float(SG)/c_converted\n",
    "    \n",
    "\n",
    "    \n",
    "    #Pop up message box\n",
    "    \n",
    "    tkinter.messagebox.showinfo(\"The Flow is\",  f'{\"%.4f\" % q} ''\\nThe result will be saved in excel file on your desktop')\n",
    "\n",
    "    PSV_List.append(PSV)\n",
    "    Flow_List.append(q)\n",
    "    Units_List.append(units)  \n",
    "    \n",
    "    #Create a dictionary\n",
    "\n",
    "    data = {\"PSV Number\": PSV_List,\n",
    "            \"Calculated Flow\": Flow_List,\n",
    "            \"Flow Units\":Units_List\n",
    "          }\n",
    "    #Create a dataframe\n",
    "\n",
    "    df = pd.DataFrame(data, columns = ['PSV Number', 'Calculated Flow','Flow Units'])\n",
    "\n",
    "    #Retrieving the users Desktop path\n",
    "    #If your OS is other than windows, consider to change the path finder correspondingly\n",
    "\n",
    "    a=os.path.join(os.environ['HOMEPATH'], 'Desktop')\n",
    "    # print(str(a)+'\\Exported PSV List.xlsx')\n",
    "    \n",
    "    #Creating the excel file with the calculation results\n",
    "    #It will be updated each calculation you perform\n",
    "    \n",
    "\n",
    "    df.to_excel (str(a)+'\\Exported PSV List.xlsx', index = False, header=True)\n",
    "    \n",
    "    #print(E_mail)\n",
    "    return q"
   ]
  },
  {
   "cell_type": "markdown",
   "metadata": {
    "id": "m36HskIAvU5b"
   },
   "source": [
    "The **`export`** function will export the created excel file to the mentioned e-mail adress.\n",
    "Hence, the consequense of actions should be done throughout the calculation and further exporting with the red button in the UI window."
   ]
  },
  {
   "cell_type": "code",
   "execution_count": 27,
   "metadata": {
    "executionInfo": {
     "elapsed": 255,
     "status": "ok",
     "timestamp": 1629104713550,
     "user": {
      "displayName": "Vitaliy Yashar",
      "photoUrl": "https://lh3.googleusercontent.com/a-/AOh14GidBALqHrcUEZaPPwv0p3n638dHsRae3KVRwEWJFQ=s64",
      "userId": "15259014568882346052"
     },
     "user_tz": -180
    },
    "id": "e8Q-YSiAvU5c"
   },
   "outputs": [],
   "source": [
    "def export():\n",
    "    \n",
    "    # Retrieving the email adress from the entry line window:\n",
    "    E_mail=E_mail_1.get() \n",
    "\n",
    "    # E-mail settings(Please note, the sender email and the password lines should be updated with accordance with your user data):\n",
    "    subject = \"Exported Flow Calculation\"\n",
    "    body = \"Please find attached the excel file with the overall calculation session results.\"\n",
    "    sender_email = \"********@gmail.com\"\n",
    "    receiver_email =E_mail\n",
    "    password = \"***********\"\n",
    "\n",
    "    # Create a multipart message and set headers\n",
    "    message = MIMEMultipart()\n",
    "    message[\"From\"] = sender_email\n",
    "    message[\"To\"] = receiver_email\n",
    "    message[\"Subject\"] = subject\n",
    "    message[\"Bcc\"] = receiver_email \n",
    "\n",
    "    # Add body to email and define the file path\n",
    "    message.attach(MIMEText(body, \"plain\"))\n",
    "    a=os.path.join(os.environ['HOMEPATH'], 'Desktop')\n",
    "    filename = str(a)+'\\Exported PSV List.xlsx'\n",
    "#   'Exported PSV List.xlsx'  # Should be in same directory as script\n",
    "\n",
    "    \n",
    "    # Open XLSX file:\n",
    "    with open(filename, \"rb\") as attachment:\n",
    "        # Add file as application/octet-stream\n",
    "        # Email client can usually download this automatically as attachment\n",
    "        part = MIMEBase(\"application\", \"octet-stream\")\n",
    "        part.set_payload(attachment.read())\n",
    "\n",
    "    # Encode file in ASCII characters to send by email    \n",
    "    encoders.encode_base64(part)\n",
    "\n",
    "    # Add header as key/value pair to attachment part\n",
    "    part.add_header(\n",
    "        \"Content-Disposition\",\n",
    "        f\"attachment; filename= {filename}\",\n",
    "    )\n",
    "\n",
    "    # Add attachment to message and convert message to string\n",
    "    message.attach(part)\n",
    "    text = message.as_string()\n",
    "\n",
    "    # Log in to server using secure context and send email\n",
    "    context = ssl.create_default_context()\n",
    "    with smtplib.SMTP_SSL(\"smtp.gmail.com\", 465, context=context) as server:\n",
    "        server.login(sender_email, password)\n",
    "        server.sendmail(sender_email, receiver_email, text)\n",
    "    \n",
    "    return"
   ]
  },
  {
   "cell_type": "markdown",
   "metadata": {
    "id": "EIdNpvkfvU6L"
   },
   "source": [
    "# UI Design with tkinter pacakge"
   ]
  },
  {
   "cell_type": "markdown",
   "metadata": {
    "id": "i1duCL12vU6M"
   },
   "source": [
    "There are multiple widgets such as:\n",
    "\n",
    "\n",
    "*   Entry lines\n",
    "*   Drop down menu\n",
    "*   Buttons\n",
    "*   Check boxes\n",
    "\n",
    "\n",
    "\n"
   ]
  },
  {
   "cell_type": "markdown",
   "metadata": {
    "id": "debtFy2IvU6M"
   },
   "source": [
    "## Creating widgets"
   ]
  },
  {
   "cell_type": "code",
   "execution_count": null,
   "metadata": {
    "colab": {
     "base_uri": "https://localhost:8080/",
     "height": 244
    },
    "executionInfo": {
     "elapsed": 659,
     "status": "error",
     "timestamp": 1629104719591,
     "user": {
      "displayName": "Vitaliy Yashar",
      "photoUrl": "https://lh3.googleusercontent.com/a-/AOh14GidBALqHrcUEZaPPwv0p3n638dHsRae3KVRwEWJFQ=s64",
      "userId": "15259014568882346052"
     },
     "user_tz": -180
    },
    "id": "2hvjO49vvU6Q",
    "outputId": "52e9b6b7-ff8b-4668-e650-a03102f52a37"
   },
   "outputs": [],
   "source": [
    "# You will create several labels named 'SG'(Specific Gravity) and \n",
    "# 'av'(Heat transfer rate) ect.. (+ Entry windows for them)\n",
    "tkinter.Label(frame1, text = \"SG\").grid(row = 1) # placed on position 10 (row - 1 and column - 0)\n",
    "\n",
    "# 'Entry' class is used to display the input-field for 'username' text label\n",
    "SG_1=tkinter.Entry(frame1,textvariable=SG_var)# Text variable(refer to Define Variables section)\n",
    "SG_1.grid(row = 1, column = 1) # first input-field is placed next to the label on position 11 (row - 1 and column - 1)\n",
    "\n",
    "\n",
    "\n",
    "\n",
    "tkinter.Label(frame1, text = \"av-Heat transfer rate to the vessel\").grid(row = 2)\n",
    "av_1=tkinter.Entry(frame1,textvariable=av_var) \n",
    "av_1.grid(row = 2, column = 1)\n",
    "\n",
    "\n",
    "\n",
    "options = tkinter.StringVar(frame1)\n",
    "options.set(\"Kjoule/hr\") # default value\n",
    "\n",
    "av_units_label = tkinter.Label(frame1,  text='', width=15 )  \n",
    "av_units_label.grid(row=3,column=1) \n",
    "\n",
    "#Defining class for Dropdown menu variables retriever\n",
    "class DropDown(tkinter.OptionMenu):\n",
    "    \"\"\"\n",
    "    Classic drop down entry\n",
    "\n",
    "    Example use:\n",
    "        # create the dropdown and grid\n",
    "        av_units = DropDown(frame1,[\"Kjoule/hr\",\"Kcal/hr\", \"Btu/hr\"])\n",
    "        av_units.grid(row=5,column=2)\n",
    "\n",
    "        # define a callback function that retrieves the currently selected option\n",
    "        def callback():\n",
    "            print(av_units.get())\n",
    "\n",
    "        # add the callback function to the dropdown\n",
    "        av_units.add_callback(callback)\n",
    "    \"\"\"\n",
    "    def __init__(self, parent, options: list, initial_value: str=None):\n",
    "        \"\"\"\n",
    "        Constructor for drop down entry\n",
    "\n",
    "        :param parent: the tk parent frame\n",
    "        :param options: a list containing the drop down options\n",
    "        :param initial_value: the initial value of the dropdown\n",
    "        \"\"\"\n",
    "        self.var = tkinter.StringVar(parent)\n",
    "        self.var.set(initial_value if initial_value else options[0])\n",
    "        self.option_menu = tkinter.OptionMenu.__init__(self, parent, self.var, *options)\n",
    "        self.callback = None\n",
    "\n",
    "    def add_callback(self, callback: callable):\n",
    "        \"\"\"\n",
    "        Add a callback on change\n",
    "\n",
    "        :param callback: callable function\n",
    "        :return: \n",
    "        \"\"\"\n",
    "        def internal_callback(*args):\n",
    "            callback()\n",
    "\n",
    "        self.var.trace(\"w\", internal_callback)\n",
    "\n",
    "    def get(self):\n",
    "        \"\"\"\n",
    "        Retrieve the value of the dropdown\n",
    "\n",
    "        :return: \n",
    "        \"\"\"\n",
    "        return self.var.get()\n",
    "\n",
    "    def set(self, value: str):\n",
    "        \"\"\"\n",
    "        Set the value of the dropdown\n",
    "\n",
    "        :param value: a string representing the\n",
    "        :return: \n",
    "        \"\"\"\n",
    "        self.var.set(value)\n",
    "\n",
    "\n",
    "        \n",
    "        \n",
    "        \n",
    "av_units_1 = DropDown(frame1,[\"Kjoule/hr\",\"Kcal/hr\", \"Btu/hr\"])\n",
    "av_units_1.grid(row=2,column=2)      \n",
    "        \n",
    "        \n",
    "#fi - 1/F Cubic Expansion coefficient of the fluid\n",
    "\n",
    "tkinter.Label(frame1, text = \"Cubic Expansion coefficient of the fluid\").grid(row = 3) \n",
    "fi_1=tkinter.Entry(frame1,textvariable=fi_var)\n",
    "fi_1.grid(row = 3, column = 1) #second input-field is placed on position 11 (row - 1 and column - 1)\n",
    "tkinter.Label(frame1, text = \"[1/F]\").grid(row = 3,column=2)\n",
    "\n",
    "\n",
    "#c=float(input('Insert Specific heat of the fluid\\n'))\n",
    "#c_units=input('Insert c units: [Kjoule/KgK] or [Btu/lb F] or [Kcal/KgK] or [Joule/KgK]\\n')\n",
    "\n",
    "tkinter.Label(frame1, text = \"Specific heat of the fluid\").grid(row = 7) \n",
    "c_1=tkinter.Entry(frame1,textvariable=c_var)\n",
    "c_1.grid(row = 7, column = 1)\n",
    "\n",
    "\n",
    "options = tkinter.StringVar(frame1)\n",
    "options.set(\"Kjoule/KgK\") # default value\n",
    "\n",
    "# c_units_1 =tkinter.OptionMenu(window, options, \"Kjoule/KgK\",\"Btu/lb F\", \"Kcal/KgK\",\"Joule/KgK\")\n",
    "# c_units_1.grid(row=8,column=2) \n",
    "\n",
    "c_units_1 = DropDown(frame1,[\"Kjoule/KgK\",\"Btu/lb F\", \"Kcal/KgK\",'Joule/KgK'])\n",
    "c_units_1.grid(row=7,column=2)\n",
    "\n",
    "\n",
    "#units=input('Insert flow calc units: [Lit/hr] or [M3/hr] or [CFM] or [USGPM]\\n')\n",
    "\n",
    "options = tkinter.StringVar(frame1)\n",
    "options.set(\"Lit/hr\") # default value\n",
    "\n",
    "l4 = tkinter.Label(frame1,  text='Flow Units to be Calculated', width=20 )  \n",
    "l4.grid(row=9,column=1) \n",
    "\n",
    "# units =tkinter.OptionMenu(window, options, \"Lit/hr\",\"CFM\", \"M3/hr\",\"USGPM\")\n",
    "# units.grid(row=9,column=2) \n",
    "\n",
    "units_1 = DropDown(frame1,[\"Lit/hr\",\"CFM\", \"M3/hr\",'USGPM'])\n",
    "units_1.grid(row=9,column=2)\n",
    "\n",
    "\n",
    "# Calculation Button(define the function name in command attribute)\n",
    "\n",
    "button = tkinter.Button(frame1, text='Calculate the Flow',bg='blue',fg='white',width=17, command=calc)\n",
    "button.grid(row=10, column=0, pady=(0,7))\n",
    "\n",
    "# PSV number for listing the results for each particular unit:\n",
    "\n",
    "PSV_num_2 = tkinter.Label(frame1,  text='Enter the PSV Tag Number', width=20 )  \n",
    "PSV_num_2.grid(row=10,column=1) \n",
    "\n",
    "PSV_num_1=tkinter.Entry(frame1,textvariable=PSV_var)\n",
    "PSV_num_1.grid(row = 10, column = 2) \n",
    "\n",
    "\n",
    "# Export Button(define the function name in command attribute)\n",
    "\n",
    "button2 = tkinter.Button(frame1, text='Export via E-mail',bg='red',fg='white',width=17, command=export)\n",
    "button2.grid(row=11, column=0, pady=(0,7))\n",
    "\n",
    "E_mail = tkinter.Label(frame1,  text='Enter your E-mail', width=20 )  \n",
    "E_mail.grid(row=11,column=1) \n",
    "\n",
    "E_mail_1=tkinter.Entry(frame1,textvariable=E_mail_var)\n",
    "E_mail_1.grid(row = 11, column = 2) #second input-field is placed on position 11 (row - 1 and column - 1)\n",
    "\n",
    "\n",
    "\n",
    "\n",
    "\n",
    "\n",
    "\n",
    "\n",
    "\n",
    "\n",
    "# # 'Checkbutton' class is for creating a checkbutton which will take a \n",
    "# 'columnspan' of width two (covers two columns)\n",
    "# Please note that the checkbutton is placed on frame2(sheet)\n",
    "tkinter.Checkbutton(frame2, text = \"Keep Me Logged In\").grid(columnspan = 5)                 \n",
    "\n",
    "\n",
    "\n",
    "window.mainloop()  # Keeps the main window open\n",
    "window.mainloop"
   ]
  }
 ],
 "metadata": {
  "colab": {
   "collapsed_sections": [
    "EhhsgjApHQhY",
    "gyrt4gVfIoJv",
    "yGYIifsVvU53",
    "gSv9XwEDvU58",
    "7SiRT5VAvU6G",
    "debtFy2IvU6M",
    "MW_oTtBevU6O",
    "RdavyAyCvU6a",
    "lsEy0f3_vU7X",
    "VUMJuKhfiC8J",
    "RI6Q4SoOvU7v",
    "Ve8nqKwkvU90",
    "6D5vv0z5vU91",
    "MYFwkd_bGGXJ",
    "id50ES5avU80",
    "fjPATH2YvU9F",
    "YC22daoPvU9N",
    "9doq0-lVT5yQ",
    "5hUy_BwPT5x9"
   ],
   "name": "PSV Caclulator Project.ipynb",
   "provenance": [
    {
     "file_id": "12xEZBrMz5ZuOVMG3tJrVTHX-qt-Fuhdq",
     "timestamp": 1628143819440
    }
   ],
   "toc_visible": true
  },
  "kernelspec": {
   "display_name": "Python 3",
   "language": "python",
   "name": "python3"
  },
  "language_info": {
   "codemirror_mode": {
    "name": "ipython",
    "version": 3
   },
   "file_extension": ".py",
   "mimetype": "text/x-python",
   "name": "python",
   "nbconvert_exporter": "python",
   "pygments_lexer": "ipython3",
   "version": "3.8.8"
  }
 },
 "nbformat": 4,
 "nbformat_minor": 4
}
